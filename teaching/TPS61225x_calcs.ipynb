{
 "cells": [
  {
   "cell_type": "markdown",
   "metadata": {},
   "source": [
    "# Vertigo - Boost Converter Notes"
   ]
  },
  {
   "cell_type": "markdown",
   "metadata": {},
   "source": [
    "Calculate the duty cycle $D$ of the converter:\n",
    "\n",
    "$$D = 1 - \\frac{V_{in,min} - \\eta}{V_{out}}$$\n",
    "\n",
    "If we assume $\\eta=90\\%$ and we are using a LiPo battery which is nominally $V_{in}=3.7$ then\n",
    "\n",
    "$$D = 1 - \\frac{3.7 \\times 0.9}{4.5} = 0.26 = 26\\%$$\n",
    "\n",
    "We use a 1A current limit, meaning that we can find the max output current as:\n",
    "\n",
    "$$I_{out,max} = I_{lim} \\times \\frac{V_{in} \\times \\eta}{V_{out}} = 740mA$$\n",
    "\n",
    "The inductor ripple current $\\Delta I_L$ can be found as (the converter operates at 3.5MHz):\n",
    "\n",
    "$$\\Delta I_L = \\frac{V_{in} \\times D}{f \\times L} = \\frac{3.7 \\times 0.26}{3.6 \\times 10^6 \\times 1 \\times 10^{-6}} = 270mA$$\n",
    "\n",
    "which implies a maximum inductor current:\n",
    "\n",
    "$$I_{L,max} = I_{lim} + \\Delta I_L = 1 + 0.27 = 1.27A$$\n",
    "\n",
    "so make sure the inductor is appropriately sized."
   ]
  }
 ],
 "metadata": {
  "kernelspec": {
   "display_name": "Python 2",
   "language": "python",
   "name": "python2"
  },
  "language_info": {
   "codemirror_mode": {
    "name": "ipython",
    "version": 2
   },
   "file_extension": ".py",
   "mimetype": "text/x-python",
   "name": "python",
   "nbconvert_exporter": "python",
   "pygments_lexer": "ipython2",
   "version": "2.7.10"
  }
 },
 "nbformat": 4,
 "nbformat_minor": 1
}
